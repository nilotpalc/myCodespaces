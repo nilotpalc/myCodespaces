{
 "cells": [
  {
   "cell_type": "code",
   "execution_count": 1,
   "id": "aa9fc87f",
   "metadata": {},
   "outputs": [],
   "source": [
    "import numpy as np\n",
    "import pandas as pd\n",
    "import matplotlib.pyplot as plt\n",
    "import seaborn as sns"
   ]
  },
  {
   "cell_type": "code",
   "execution_count": 2,
   "id": "ea02d12c",
   "metadata": {},
   "outputs": [],
   "source": [
    "# import a parquet file as a pandas dataframe\n",
    "df = pd.read_parquet('Flight_Info_2018.parquet')"
   ]
  },
  {
   "cell_type": "code",
   "execution_count": 3,
   "id": "a3ffb6ae",
   "metadata": {},
   "outputs": [
    {
     "data": {
      "application/vnd.microsoft.datawrangler.viewer.v0+json": {
       "columns": [
        {
         "name": "index",
         "rawType": "int64",
         "type": "integer"
        },
        {
         "name": "FlightDate",
         "rawType": "object",
         "type": "string"
        },
        {
         "name": "Airline",
         "rawType": "object",
         "type": "string"
        },
        {
         "name": "Origin",
         "rawType": "object",
         "type": "string"
        },
        {
         "name": "Dest",
         "rawType": "object",
         "type": "string"
        },
        {
         "name": "CRSDepTime",
         "rawType": "int64",
         "type": "integer"
        },
        {
         "name": "DepTime",
         "rawType": "float64",
         "type": "float"
        },
        {
         "name": "AirTime",
         "rawType": "float64",
         "type": "float"
        },
        {
         "name": "CRSElapsedTime",
         "rawType": "float64",
         "type": "float"
        },
        {
         "name": "ActualElapsedTime",
         "rawType": "float64",
         "type": "float"
        },
        {
         "name": "Distance",
         "rawType": "float64",
         "type": "float"
        },
        {
         "name": "Flight_Number_Operating_Airline",
         "rawType": "int64",
         "type": "integer"
        },
        {
         "name": "OriginAirportID",
         "rawType": "int64",
         "type": "integer"
        },
        {
         "name": "OriginStateName",
         "rawType": "object",
         "type": "string"
        },
        {
         "name": "OriginWac",
         "rawType": "int64",
         "type": "integer"
        },
        {
         "name": "DestAirportID",
         "rawType": "int64",
         "type": "integer"
        },
        {
         "name": "DestStateName",
         "rawType": "object",
         "type": "string"
        },
        {
         "name": "DestWac",
         "rawType": "int64",
         "type": "integer"
        },
        {
         "name": "DepartureDelayGroups",
         "rawType": "float64",
         "type": "float"
        },
        {
         "name": "DepTimeBlk",
         "rawType": "object",
         "type": "string"
        },
        {
         "name": "TaxiOut",
         "rawType": "float64",
         "type": "float"
        },
        {
         "name": "WheelsOff",
         "rawType": "float64",
         "type": "float"
        },
        {
         "name": "WheelsOn",
         "rawType": "float64",
         "type": "float"
        },
        {
         "name": "TaxiIn",
         "rawType": "float64",
         "type": "float"
        },
        {
         "name": "DistanceGroup",
         "rawType": "int64",
         "type": "integer"
        },
        {
         "name": "DivAirportLandings",
         "rawType": "float64",
         "type": "float"
        },
        {
         "name": "Diverted_",
         "rawType": "int32",
         "type": "integer"
        },
        {
         "name": "Dep_Delay",
         "rawType": "object",
         "type": "string"
        }
       ],
       "ref": "9c2b7572-8cc1-47a0-b472-7f6062ab792a",
       "rows": [
        [
         "0",
         "2018-01-18T00:00",
         "Endeavor Air Inc.",
         "ATL",
         "ABY",
         "1037",
         "1233.0",
         "32.0",
         "60.0",
         "72.0",
         "145.0",
         "3298",
         "10397",
         "Georgia",
         "34",
         "10146",
         "Georgia",
         "34",
         "7.0",
         "1000-1059",
         "34.0",
         "1307.0",
         "1339.0",
         "6.0",
         "1",
         "0.0",
         "0",
         "delayed"
        ],
        [
         "1",
         "2018-01-13T00:00",
         "Endeavor Air Inc.",
         "ATL",
         "EVV",
         "941",
         "1142.0",
         "54.0",
         "87.0",
         "83.0",
         "350.0",
         "3299",
         "10397",
         "Georgia",
         "34",
         "11612",
         "Indiana",
         "42",
         "8.0",
         "0900-0959",
         "22.0",
         "1204.0",
         "1158.0",
         "7.0",
         "2",
         "0.0",
         "0",
         "delayed"
        ],
        [
         "2",
         "2018-01-29T00:00",
         "Endeavor Air Inc.",
         "ATL",
         "EVV",
         "939",
         "1012.0",
         "58.0",
         "89.0",
         "81.0",
         "350.0",
         "3299",
         "10397",
         "Georgia",
         "34",
         "11612",
         "Indiana",
         "42",
         "2.0",
         "0900-0959",
         "19.0",
         "1031.0",
         "1029.0",
         "4.0",
         "2",
         "0.0",
         "0",
         "delayed"
        ],
        [
         "3",
         "2018-01-06T00:00",
         "Endeavor Air Inc.",
         "BUF",
         "DTW",
         "1006",
         "1043.0",
         "39.0",
         "84.0",
         "77.0",
         "241.0",
         "3299",
         "10792",
         "New York",
         "22",
         "11433",
         "Michigan",
         "43",
         "2.0",
         "1000-1059",
         "29.0",
         "1112.0",
         "1151.0",
         "9.0",
         "1",
         "0.0",
         "0",
         "delayed"
        ],
        [
         "4",
         "2018-01-08T00:00",
         "Endeavor Air Inc.",
         "BTV",
         "DTW",
         "1240",
         "1254.0",
         "92.0",
         "135.0",
         "117.0",
         "537.0",
         "3300",
         "10785",
         "Vermont",
         "16",
         "11433",
         "Michigan",
         "43",
         "0.0",
         "1200-1259",
         "15.0",
         "1309.0",
         "1441.0",
         "10.0",
         "3",
         "0.0",
         "0",
         "delayed"
        ]
       ],
       "shape": {
        "columns": 27,
        "rows": 5
       }
      },
      "text/html": [
       "<div>\n",
       "<style scoped>\n",
       "    .dataframe tbody tr th:only-of-type {\n",
       "        vertical-align: middle;\n",
       "    }\n",
       "\n",
       "    .dataframe tbody tr th {\n",
       "        vertical-align: top;\n",
       "    }\n",
       "\n",
       "    .dataframe thead th {\n",
       "        text-align: right;\n",
       "    }\n",
       "</style>\n",
       "<table border=\"1\" class=\"dataframe\">\n",
       "  <thead>\n",
       "    <tr style=\"text-align: right;\">\n",
       "      <th></th>\n",
       "      <th>FlightDate</th>\n",
       "      <th>Airline</th>\n",
       "      <th>Origin</th>\n",
       "      <th>Dest</th>\n",
       "      <th>CRSDepTime</th>\n",
       "      <th>DepTime</th>\n",
       "      <th>AirTime</th>\n",
       "      <th>CRSElapsedTime</th>\n",
       "      <th>ActualElapsedTime</th>\n",
       "      <th>Distance</th>\n",
       "      <th>...</th>\n",
       "      <th>DepartureDelayGroups</th>\n",
       "      <th>DepTimeBlk</th>\n",
       "      <th>TaxiOut</th>\n",
       "      <th>WheelsOff</th>\n",
       "      <th>WheelsOn</th>\n",
       "      <th>TaxiIn</th>\n",
       "      <th>DistanceGroup</th>\n",
       "      <th>DivAirportLandings</th>\n",
       "      <th>Diverted_</th>\n",
       "      <th>Dep_Delay</th>\n",
       "    </tr>\n",
       "  </thead>\n",
       "  <tbody>\n",
       "    <tr>\n",
       "      <th>0</th>\n",
       "      <td>2018-01-18T00:00</td>\n",
       "      <td>Endeavor Air Inc.</td>\n",
       "      <td>ATL</td>\n",
       "      <td>ABY</td>\n",
       "      <td>1037</td>\n",
       "      <td>1233.0</td>\n",
       "      <td>32.0</td>\n",
       "      <td>60.0</td>\n",
       "      <td>72.0</td>\n",
       "      <td>145.0</td>\n",
       "      <td>...</td>\n",
       "      <td>7.0</td>\n",
       "      <td>1000-1059</td>\n",
       "      <td>34.0</td>\n",
       "      <td>1307.0</td>\n",
       "      <td>1339.0</td>\n",
       "      <td>6.0</td>\n",
       "      <td>1</td>\n",
       "      <td>0.0</td>\n",
       "      <td>0</td>\n",
       "      <td>delayed</td>\n",
       "    </tr>\n",
       "    <tr>\n",
       "      <th>1</th>\n",
       "      <td>2018-01-13T00:00</td>\n",
       "      <td>Endeavor Air Inc.</td>\n",
       "      <td>ATL</td>\n",
       "      <td>EVV</td>\n",
       "      <td>941</td>\n",
       "      <td>1142.0</td>\n",
       "      <td>54.0</td>\n",
       "      <td>87.0</td>\n",
       "      <td>83.0</td>\n",
       "      <td>350.0</td>\n",
       "      <td>...</td>\n",
       "      <td>8.0</td>\n",
       "      <td>0900-0959</td>\n",
       "      <td>22.0</td>\n",
       "      <td>1204.0</td>\n",
       "      <td>1158.0</td>\n",
       "      <td>7.0</td>\n",
       "      <td>2</td>\n",
       "      <td>0.0</td>\n",
       "      <td>0</td>\n",
       "      <td>delayed</td>\n",
       "    </tr>\n",
       "    <tr>\n",
       "      <th>2</th>\n",
       "      <td>2018-01-29T00:00</td>\n",
       "      <td>Endeavor Air Inc.</td>\n",
       "      <td>ATL</td>\n",
       "      <td>EVV</td>\n",
       "      <td>939</td>\n",
       "      <td>1012.0</td>\n",
       "      <td>58.0</td>\n",
       "      <td>89.0</td>\n",
       "      <td>81.0</td>\n",
       "      <td>350.0</td>\n",
       "      <td>...</td>\n",
       "      <td>2.0</td>\n",
       "      <td>0900-0959</td>\n",
       "      <td>19.0</td>\n",
       "      <td>1031.0</td>\n",
       "      <td>1029.0</td>\n",
       "      <td>4.0</td>\n",
       "      <td>2</td>\n",
       "      <td>0.0</td>\n",
       "      <td>0</td>\n",
       "      <td>delayed</td>\n",
       "    </tr>\n",
       "    <tr>\n",
       "      <th>3</th>\n",
       "      <td>2018-01-06T00:00</td>\n",
       "      <td>Endeavor Air Inc.</td>\n",
       "      <td>BUF</td>\n",
       "      <td>DTW</td>\n",
       "      <td>1006</td>\n",
       "      <td>1043.0</td>\n",
       "      <td>39.0</td>\n",
       "      <td>84.0</td>\n",
       "      <td>77.0</td>\n",
       "      <td>241.0</td>\n",
       "      <td>...</td>\n",
       "      <td>2.0</td>\n",
       "      <td>1000-1059</td>\n",
       "      <td>29.0</td>\n",
       "      <td>1112.0</td>\n",
       "      <td>1151.0</td>\n",
       "      <td>9.0</td>\n",
       "      <td>1</td>\n",
       "      <td>0.0</td>\n",
       "      <td>0</td>\n",
       "      <td>delayed</td>\n",
       "    </tr>\n",
       "    <tr>\n",
       "      <th>4</th>\n",
       "      <td>2018-01-08T00:00</td>\n",
       "      <td>Endeavor Air Inc.</td>\n",
       "      <td>BTV</td>\n",
       "      <td>DTW</td>\n",
       "      <td>1240</td>\n",
       "      <td>1254.0</td>\n",
       "      <td>92.0</td>\n",
       "      <td>135.0</td>\n",
       "      <td>117.0</td>\n",
       "      <td>537.0</td>\n",
       "      <td>...</td>\n",
       "      <td>0.0</td>\n",
       "      <td>1200-1259</td>\n",
       "      <td>15.0</td>\n",
       "      <td>1309.0</td>\n",
       "      <td>1441.0</td>\n",
       "      <td>10.0</td>\n",
       "      <td>3</td>\n",
       "      <td>0.0</td>\n",
       "      <td>0</td>\n",
       "      <td>delayed</td>\n",
       "    </tr>\n",
       "  </tbody>\n",
       "</table>\n",
       "<p>5 rows × 27 columns</p>\n",
       "</div>"
      ],
      "text/plain": [
       "         FlightDate            Airline Origin Dest  CRSDepTime  DepTime  \\\n",
       "0  2018-01-18T00:00  Endeavor Air Inc.    ATL  ABY        1037   1233.0   \n",
       "1  2018-01-13T00:00  Endeavor Air Inc.    ATL  EVV         941   1142.0   \n",
       "2  2018-01-29T00:00  Endeavor Air Inc.    ATL  EVV         939   1012.0   \n",
       "3  2018-01-06T00:00  Endeavor Air Inc.    BUF  DTW        1006   1043.0   \n",
       "4  2018-01-08T00:00  Endeavor Air Inc.    BTV  DTW        1240   1254.0   \n",
       "\n",
       "   AirTime  CRSElapsedTime  ActualElapsedTime  Distance  ...  \\\n",
       "0     32.0            60.0               72.0     145.0  ...   \n",
       "1     54.0            87.0               83.0     350.0  ...   \n",
       "2     58.0            89.0               81.0     350.0  ...   \n",
       "3     39.0            84.0               77.0     241.0  ...   \n",
       "4     92.0           135.0              117.0     537.0  ...   \n",
       "\n",
       "   DepartureDelayGroups  DepTimeBlk TaxiOut  WheelsOff  WheelsOn TaxiIn  \\\n",
       "0                   7.0   1000-1059    34.0     1307.0    1339.0    6.0   \n",
       "1                   8.0   0900-0959    22.0     1204.0    1158.0    7.0   \n",
       "2                   2.0   0900-0959    19.0     1031.0    1029.0    4.0   \n",
       "3                   2.0   1000-1059    29.0     1112.0    1151.0    9.0   \n",
       "4                   0.0   1200-1259    15.0     1309.0    1441.0   10.0   \n",
       "\n",
       "   DistanceGroup  DivAirportLandings Diverted_  Dep_Delay  \n",
       "0              1                 0.0         0    delayed  \n",
       "1              2                 0.0         0    delayed  \n",
       "2              2                 0.0         0    delayed  \n",
       "3              1                 0.0         0    delayed  \n",
       "4              3                 0.0         0    delayed  \n",
       "\n",
       "[5 rows x 27 columns]"
      ]
     },
     "execution_count": 3,
     "metadata": {},
     "output_type": "execute_result"
    }
   ],
   "source": [
    "# see a preview of the data\n",
    "df.head()"
   ]
  },
  {
   "cell_type": "code",
   "execution_count": 4,
   "id": "c9ae7fe8",
   "metadata": {},
   "outputs": [],
   "source": [
    "df_clean = df.drop(columns=['Flight_Number_Operating_Airline', 'OriginAirportID', 'OriginWac','DestWac','DestAirportID','CRSElapsedTime','AirTime','CRSDepTime','DepTime','FlightDate','Origin','Dest', 'DepartureDelayGroups','Distance'])"
   ]
  },
  {
   "cell_type": "code",
   "execution_count": 5,
   "id": "be795b7b",
   "metadata": {},
   "outputs": [],
   "source": [
    "def clean_data(df):\n",
    "    # Convert all columns of object type to to categorical\n",
    "    cat_columns = df.select_dtypes(include=['object']).columns\n",
    "    for col in cat_columns:\n",
    "        if col == 'Dep_Delay':\n",
    "            continue\n",
    "        df[col] = df[col].astype('category')\n",
    "    # One-hot encode specified columns\n",
    "    df = pd.get_dummies(df, columns=cat_columns, drop_first=True, prefix=cat_columns, prefix_sep='_', dtype=int)\n",
    "    return df\n",
    "\n",
    "\n",
    "df_cleanmodel = clean_data(df_clean)"
   ]
  },
  {
   "cell_type": "code",
   "execution_count": 6,
   "id": "93308490",
   "metadata": {},
   "outputs": [],
   "source": [
    "df_cleanmodel = df_cleanmodel.dropna()"
   ]
  },
  {
   "cell_type": "code",
   "execution_count": 7,
   "id": "7cb9f8bc",
   "metadata": {},
   "outputs": [],
   "source": [
    "df_cleanmodel.to_parquet('modeldata.parquet', index=False)"
   ]
  },
  {
   "cell_type": "code",
   "execution_count": 8,
   "id": "36a28342",
   "metadata": {},
   "outputs": [
    {
     "name": "stdout",
     "output_type": "stream",
     "text": [
      "              precision    recall  f1-score   support\n",
      "\n",
      "           0       0.81      0.81      0.81    100592\n",
      "           1       0.81      0.81      0.81    100490\n",
      "\n",
      "    accuracy                           0.81    201082\n",
      "   macro avg       0.81      0.81      0.81    201082\n",
      "weighted avg       0.81      0.81      0.81    201082\n",
      "\n"
     ]
    }
   ],
   "source": [
    "# apply a decision tree model to the cleaned data\n",
    "from sklearn.model_selection import train_test_split\n",
    "from sklearn.tree import DecisionTreeClassifier\n",
    "X = df_cleanmodel.drop('Dep_Delay_not delayed', axis=1)\n",
    "y = df_cleanmodel['Dep_Delay_not delayed']\n",
    "\n",
    "X_train, X_test, y_train, y_test = train_test_split(X, y, test_size=0.2, random_state=42)\n",
    "model = DecisionTreeClassifier(random_state=42)\n",
    "model.fit(X_train, y_train)\n",
    "y_pred = model.predict(X_test)\n",
    "\n",
    "from sklearn.metrics import classification_report\n",
    "print(classification_report(y_test, y_pred))"
   ]
  }
 ],
 "metadata": {
  "kernelspec": {
   "display_name": ".env_py3139 (3.13.9)",
   "language": "python",
   "name": "python3"
  },
  "language_info": {
   "codemirror_mode": {
    "name": "ipython",
    "version": 3
   },
   "file_extension": ".py",
   "mimetype": "text/x-python",
   "name": "python",
   "nbconvert_exporter": "python",
   "pygments_lexer": "ipython3",
   "version": "3.13.9"
  }
 },
 "nbformat": 4,
 "nbformat_minor": 5
}
